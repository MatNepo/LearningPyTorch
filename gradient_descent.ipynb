{
 "cells": [
  {
   "cell_type": "code",
   "id": "initial_id",
   "metadata": {
    "collapsed": true,
    "ExecuteTime": {
     "end_time": "2024-06-18T20:27:05.400125Z",
     "start_time": "2024-06-18T20:27:04.482897Z"
    }
   },
   "source": [
    "# imports\n",
    "import numpy as np"
   ],
   "outputs": [],
   "execution_count": 1
  },
  {
   "metadata": {
    "ExecuteTime": {
     "end_time": "2024-06-18T20:38:07.758544Z",
     "start_time": "2024-06-18T20:38:07.754237Z"
    }
   },
   "cell_type": "code",
   "source": [
    "# f = w * x\n",
    "# f = 2 * x\n",
    "X = np.array([1, 2, 3, 4], dtype=np.float32)\n",
    "Y = np.array([2, 4, 6, 8], dtype=np.float32)\n",
    "\n",
    "w = 0.0\n",
    "\n",
    "# calculate model prediction\n",
    "def forward(x):\n",
    "    return w * x\n",
    "\n",
    "# calculate loss\n",
    "def loss(y, y_predicted):\n",
    "    return ((y_predicted - y) ** 2).mean()\n",
    "\n",
    "# calculate gradient\n",
    "# MSE = 1/N * (w * x - y)**2\n",
    "# dJ/dw = 1/N 2x (w * x - y)**2\n",
    "def gradient(x, y, y_predicted):\n",
    "    return np.dot(2 * x, y_predicted - y).mean()"
   ],
   "id": "c1548eb25c658801",
   "outputs": [],
   "execution_count": 4
  },
  {
   "metadata": {
    "ExecuteTime": {
     "end_time": "2024-06-18T20:38:55.243536Z",
     "start_time": "2024-06-18T20:38:55.238670Z"
    }
   },
   "cell_type": "code",
   "source": [
    "print(f'Prediction before training: f(5) = {forward(5):.3f}')\n",
    "\n",
    "# Training\n",
    "learning_rate = 0.01\n",
    "n_iters = 20\n",
    "\n",
    "for epoch in range(n_iters):\n",
    "    # prediction = forward pass\n",
    "    y_pred = forward(X)\n",
    "    \n",
    "    # loss\n",
    "    l = loss(Y, y_pred)\n",
    "    \n",
    "    # gradients\n",
    "    dw = gradient(X, Y, y_pred)\n",
    "    \n",
    "    # update weights\n",
    "    w -= learning_rate * dw\n",
    "    \n",
    "    if epoch % 2 == 0:\n",
    "        print(f'epoch {epoch+1}: w = {w:.3f}, loss: {l:.8f}')\n",
    "        \n",
    "print(f'Prediction after training: f(5) = {forward(5):.3f}')"
   ],
   "id": "642801f25b55dbee",
   "outputs": [
    {
     "name": "stdout",
     "output_type": "stream",
     "text": [
      "Prediction before training: f(5) = 9.999\n",
      "epoch 1: w = 2.000, loss: 0.00000033\n",
      "epoch 3: w = 2.000, loss: 0.00000001\n",
      "epoch 5: w = 2.000, loss: 0.00000000\n",
      "epoch 7: w = 2.000, loss: 0.00000000\n",
      "epoch 9: w = 2.000, loss: 0.00000000\n",
      "epoch 11: w = 2.000, loss: 0.00000000\n",
      "epoch 13: w = 2.000, loss: 0.00000000\n",
      "epoch 15: w = 2.000, loss: 0.00000000\n",
      "epoch 17: w = 2.000, loss: 0.00000000\n",
      "epoch 19: w = 2.000, loss: 0.00000000\n",
      "Prediction after training: f(5) = 10.000\n"
     ]
    }
   ],
   "execution_count": 6
  },
  {
   "metadata": {},
   "cell_type": "code",
   "outputs": [],
   "execution_count": null,
   "source": "",
   "id": "3b48d1073db4356c"
  }
 ],
 "metadata": {
  "kernelspec": {
   "display_name": "Python 3",
   "language": "python",
   "name": "python3"
  },
  "language_info": {
   "codemirror_mode": {
    "name": "ipython",
    "version": 2
   },
   "file_extension": ".py",
   "mimetype": "text/x-python",
   "name": "python",
   "nbconvert_exporter": "python",
   "pygments_lexer": "ipython2",
   "version": "2.7.6"
  }
 },
 "nbformat": 4,
 "nbformat_minor": 5
}
