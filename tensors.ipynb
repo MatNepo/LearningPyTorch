{
 "cells": [
  {
   "cell_type": "code",
   "id": "initial_id",
   "metadata": {
    "collapsed": true,
    "ExecuteTime": {
     "end_time": "2024-06-10T19:10:48.765349Z",
     "start_time": "2024-06-10T19:10:48.760950Z"
    }
   },
   "source": [
    "# imports\n",
    "\n",
    "import torch\n",
    "import numpy as np"
   ],
   "outputs": [],
   "execution_count": 72
  },
  {
   "metadata": {},
   "cell_type": "markdown",
   "source": "Create empty tensor",
   "id": "56fd6794beb15b8c"
  },
  {
   "metadata": {
    "ExecuteTime": {
     "end_time": "2024-06-10T18:37:00.663883Z",
     "start_time": "2024-06-10T18:37:00.659481Z"
    }
   },
   "cell_type": "code",
   "source": [
    "x = torch.rand(2, 2)\n",
    "y = torch.rand(2, 2)\n",
    "print(x)\n",
    "print(y)"
   ],
   "id": "683ff5c1f2db373c",
   "outputs": [
    {
     "name": "stdout",
     "output_type": "stream",
     "text": [
      "tensor([[0.1928, 0.2330],\n",
      "        [0.0695, 0.5199]])\n",
      "tensor([[0.4508, 0.8161],\n",
      "        [0.2779, 0.8260]])\n"
     ]
    }
   ],
   "execution_count": 38
  },
  {
   "metadata": {
    "ExecuteTime": {
     "end_time": "2024-06-10T18:37:01.450467Z",
     "start_time": "2024-06-10T18:37:01.446497Z"
    }
   },
   "cell_type": "code",
   "source": [
    "z = x + y\n",
    "print(z)"
   ],
   "id": "60f6f3b5483cf35f",
   "outputs": [
    {
     "name": "stdout",
     "output_type": "stream",
     "text": [
      "tensor([[0.6436, 1.0491],\n",
      "        [0.3474, 1.3459]])\n"
     ]
    }
   ],
   "execution_count": 39
  },
  {
   "metadata": {
    "ExecuteTime": {
     "end_time": "2024-06-10T18:37:02.009085Z",
     "start_time": "2024-06-10T18:37:02.005273Z"
    }
   },
   "cell_type": "code",
   "source": [
    "z = torch.add(x, y)\n",
    "print(z)"
   ],
   "id": "3b03ced11e42dd3",
   "outputs": [
    {
     "name": "stdout",
     "output_type": "stream",
     "text": [
      "tensor([[0.6436, 1.0491],\n",
      "        [0.3474, 1.3459]])\n"
     ]
    }
   ],
   "execution_count": 40
  },
  {
   "metadata": {
    "ExecuteTime": {
     "end_time": "2024-06-10T18:37:02.621184Z",
     "start_time": "2024-06-10T18:37:02.618454Z"
    }
   },
   "cell_type": "code",
   "source": [
    "y.add_(x)\n",
    "print(y)"
   ],
   "id": "4d67cbc7526f7c06",
   "outputs": [
    {
     "name": "stdout",
     "output_type": "stream",
     "text": [
      "tensor([[0.6436, 1.0491],\n",
      "        [0.3474, 1.3459]])\n"
     ]
    }
   ],
   "execution_count": 41
  },
  {
   "metadata": {
    "ExecuteTime": {
     "end_time": "2024-06-10T18:37:03.023740Z",
     "start_time": "2024-06-10T18:37:03.020638Z"
    }
   },
   "cell_type": "code",
   "source": [
    "z = x / y\n",
    "print(z)"
   ],
   "id": "a99066729c972d0",
   "outputs": [
    {
     "name": "stdout",
     "output_type": "stream",
     "text": [
      "tensor([[0.2996, 0.2221],\n",
      "        [0.2001, 0.3863]])\n"
     ]
    }
   ],
   "execution_count": 42
  },
  {
   "metadata": {
    "ExecuteTime": {
     "end_time": "2024-06-10T18:37:03.545550Z",
     "start_time": "2024-06-10T18:37:03.541761Z"
    }
   },
   "cell_type": "code",
   "source": [
    "z = torch.div(x, y)\n",
    "print(z)"
   ],
   "id": "29082b993133f6e",
   "outputs": [
    {
     "name": "stdout",
     "output_type": "stream",
     "text": [
      "tensor([[0.2996, 0.2221],\n",
      "        [0.2001, 0.3863]])\n"
     ]
    }
   ],
   "execution_count": 43
  },
  {
   "metadata": {
    "ExecuteTime": {
     "end_time": "2024-06-10T18:52:19.433099Z",
     "start_time": "2024-06-10T18:52:19.429078Z"
    }
   },
   "cell_type": "code",
   "source": [
    "x = torch.rand(5, 3)\n",
    "print(x)"
   ],
   "id": "aff993981fd9704e",
   "outputs": [
    {
     "name": "stdout",
     "output_type": "stream",
     "text": [
      "tensor([[0.7173, 0.7482, 0.2071],\n",
      "        [0.3948, 0.3724, 0.6202],\n",
      "        [0.4682, 0.5114, 0.8263],\n",
      "        [0.5262, 0.7857, 0.5075],\n",
      "        [0.2608, 0.8243, 0.6058]])\n"
     ]
    }
   ],
   "execution_count": 52
  },
  {
   "metadata": {
    "ExecuteTime": {
     "end_time": "2024-06-10T18:53:24.786750Z",
     "start_time": "2024-06-10T18:53:24.782226Z"
    }
   },
   "cell_type": "code",
   "source": [
    "print(x[:, 0]) # all rows for 0 column\n",
    "print(x[1, :]) # all columns for 1st raw"
   ],
   "id": "3c5495ab7e68d96d",
   "outputs": [
    {
     "name": "stdout",
     "output_type": "stream",
     "text": [
      "tensor([0.7173, 0.3948, 0.4682, 0.5262, 0.2608])\n",
      "tensor([0.3948, 0.3724, 0.6202])\n"
     ]
    }
   ],
   "execution_count": 54
  },
  {
   "metadata": {
    "ExecuteTime": {
     "end_time": "2024-06-10T18:54:26.997889Z",
     "start_time": "2024-06-10T18:54:26.994565Z"
    }
   },
   "cell_type": "code",
   "source": [
    "print(x[1, 1]) # print element in raw 1 column 1\n",
    "print(x[1, 1].item()) # print element's value in raw 1 column 1"
   ],
   "id": "5a57d411753651f1",
   "outputs": [
    {
     "name": "stdout",
     "output_type": "stream",
     "text": [
      "tensor(0.3724)\n",
      "0.37241238355636597\n"
     ]
    }
   ],
   "execution_count": 56
  },
  {
   "metadata": {},
   "cell_type": "markdown",
   "source": "Create new tensor",
   "id": "9fde60932e2ba3af"
  },
  {
   "metadata": {
    "ExecuteTime": {
     "end_time": "2024-06-10T18:58:10.796685Z",
     "start_time": "2024-06-10T18:58:10.792474Z"
    }
   },
   "cell_type": "code",
   "source": [
    "x = torch.rand(4, 4)\n",
    "print(x)"
   ],
   "id": "71e13fcd43350918",
   "outputs": [
    {
     "name": "stdout",
     "output_type": "stream",
     "text": [
      "tensor([[0.1130, 0.9065, 0.7619, 0.7639],\n",
      "        [0.5591, 0.9500, 0.0840, 0.9703],\n",
      "        [0.9447, 0.9371, 0.4749, 0.2788],\n",
      "        [0.0023, 0.5946, 0.9686, 0.5486]])\n"
     ]
    }
   ],
   "execution_count": 63
  },
  {
   "metadata": {},
   "cell_type": "markdown",
   "source": "# Resizing tensors",
   "id": "bcd82d95333b247b"
  },
  {
   "metadata": {},
   "cell_type": "markdown",
   "source": "Reshaping tensor in vector of 16 elements (not a raw, not a column, cause 1D dimension):",
   "id": "4668194ae117c672"
  },
  {
   "metadata": {
    "ExecuteTime": {
     "end_time": "2024-06-10T18:56:46.859942Z",
     "start_time": "2024-06-10T18:56:46.856247Z"
    }
   },
   "cell_type": "code",
   "source": [
    "y = x.view(16)\n",
    "print(y)"
   ],
   "id": "1f3ec18b5ade8704",
   "outputs": [
    {
     "name": "stdout",
     "output_type": "stream",
     "text": [
      "tensor([0.9216, 0.9796, 0.0556, 0.7999, 0.3326, 0.4865, 0.9035, 0.4403, 0.1135,\n",
      "        0.5351, 0.6349, 0.5035, 0.8146, 0.0679, 0.6084, 0.3264])\n"
     ]
    }
   ],
   "execution_count": 59
  },
  {
   "metadata": {},
   "cell_type": "markdown",
   "source": "Reshaping in one column with 16 raws",
   "id": "b28b7e541c98e38c"
  },
  {
   "metadata": {
    "ExecuteTime": {
     "end_time": "2024-06-10T18:58:52.779427Z",
     "start_time": "2024-06-10T18:58:52.775671Z"
    }
   },
   "cell_type": "code",
   "source": [
    "y = x.view(-1, 16)\n",
    "print(y)"
   ],
   "id": "b518ed2e5229154d",
   "outputs": [
    {
     "name": "stdout",
     "output_type": "stream",
     "text": [
      "tensor([[0.1130, 0.9065, 0.7619, 0.7639, 0.5591, 0.9500, 0.0840, 0.9703, 0.9447,\n",
      "         0.9371, 0.4749, 0.2788, 0.0023, 0.5946, 0.9686, 0.5486]])\n"
     ]
    }
   ],
   "execution_count": 66
  },
  {
   "metadata": {},
   "cell_type": "markdown",
   "source": [
    "Differences between 2 previous examples are:\n",
    "1) 1st tensor has 1D dimension (vector)\n",
    "2) 2nd tensor has 2D dimension (matrix (1, 16))"
   ],
   "id": "44a179b478544342"
  },
  {
   "metadata": {
    "ExecuteTime": {
     "end_time": "2024-06-10T18:59:13.273381Z",
     "start_time": "2024-06-10T18:59:13.270101Z"
    }
   },
   "cell_type": "code",
   "source": [
    "y = x.view(-1, 8)\n",
    "print(y)"
   ],
   "id": "be493268a3e6b297",
   "outputs": [
    {
     "name": "stdout",
     "output_type": "stream",
     "text": [
      "tensor([[0.1130, 0.9065, 0.7619, 0.7639, 0.5591, 0.9500, 0.0840, 0.9703],\n",
      "        [0.9447, 0.9371, 0.4749, 0.2788, 0.0023, 0.5946, 0.9686, 0.5486]])\n"
     ]
    }
   ],
   "execution_count": 67
  },
  {
   "metadata": {
    "ExecuteTime": {
     "end_time": "2024-06-10T18:59:41.662285Z",
     "start_time": "2024-06-10T18:59:41.658859Z"
    }
   },
   "cell_type": "code",
   "source": [
    "y = x.view(-1, 4)\n",
    "print(y)"
   ],
   "id": "7c20b22d25e5973",
   "outputs": [
    {
     "name": "stdout",
     "output_type": "stream",
     "text": [
      "tensor([[0.1130, 0.9065, 0.7619, 0.7639],\n",
      "        [0.5591, 0.9500, 0.0840, 0.9703],\n",
      "        [0.9447, 0.9371, 0.4749, 0.2788],\n",
      "        [0.0023, 0.5946, 0.9686, 0.5486]])\n"
     ]
    }
   ],
   "execution_count": 69
  },
  {
   "metadata": {
    "ExecuteTime": {
     "end_time": "2024-06-10T18:59:47.552457Z",
     "start_time": "2024-06-10T18:59:47.548869Z"
    }
   },
   "cell_type": "code",
   "source": [
    "y = x.view(-1, 2)\n",
    "print(y)"
   ],
   "id": "25d4f59ba0749294",
   "outputs": [
    {
     "name": "stdout",
     "output_type": "stream",
     "text": [
      "tensor([[0.1130, 0.9065],\n",
      "        [0.7619, 0.7639],\n",
      "        [0.5591, 0.9500],\n",
      "        [0.0840, 0.9703],\n",
      "        [0.9447, 0.9371],\n",
      "        [0.4749, 0.2788],\n",
      "        [0.0023, 0.5946],\n",
      "        [0.9686, 0.5486]])\n"
     ]
    }
   ],
   "execution_count": 70
  },
  {
   "metadata": {
    "ExecuteTime": {
     "end_time": "2024-06-10T19:00:08.248998Z",
     "start_time": "2024-06-10T19:00:08.246298Z"
    }
   },
   "cell_type": "code",
   "source": "print(y.size())",
   "id": "e4bf1b5a5987a1d3",
   "outputs": [
    {
     "name": "stdout",
     "output_type": "stream",
     "text": [
      "torch.Size([8, 2])\n"
     ]
    }
   ],
   "execution_count": 71
  },
  {
   "metadata": {},
   "cell_type": "markdown",
   "source": "# Working with Numpy",
   "id": "41858bbe65c193e9"
  },
  {
   "metadata": {
    "ExecuteTime": {
     "end_time": "2024-06-10T19:11:38.622918Z",
     "start_time": "2024-06-10T19:11:38.618970Z"
    }
   },
   "cell_type": "code",
   "source": [
    "a = torch.ones(5)\n",
    "print(a)"
   ],
   "id": "472d465eb3c27bf1",
   "outputs": [
    {
     "name": "stdout",
     "output_type": "stream",
     "text": [
      "tensor([1., 1., 1., 1., 1.])\n"
     ]
    }
   ],
   "execution_count": 73
  },
  {
   "metadata": {},
   "cell_type": "markdown",
   "source": "Transform to numpy type",
   "id": "1d71f4cb3f0f619"
  },
  {
   "metadata": {
    "ExecuteTime": {
     "end_time": "2024-06-10T19:12:15.308541Z",
     "start_time": "2024-06-10T19:12:15.303250Z"
    }
   },
   "cell_type": "code",
   "source": [
    "b = a.numpy()\n",
    "print(type(b))"
   ],
   "id": "3dc9c38fc405330d",
   "outputs": [
    {
     "name": "stdout",
     "output_type": "stream",
     "text": [
      "<class 'numpy.ndarray'>\n"
     ]
    }
   ],
   "execution_count": 74
  },
  {
   "metadata": {},
   "cell_type": "markdown",
   "source": "Here it's important to understand that by changing tensor \"a\" we also change tensor \"b\"",
   "id": "69b45dfbb95920e5"
  },
  {
   "metadata": {
    "ExecuteTime": {
     "end_time": "2024-06-10T19:15:16.257063Z",
     "start_time": "2024-06-10T19:15:16.253066Z"
    }
   },
   "cell_type": "code",
   "source": [
    "a.add_(1)\n",
    "print(a) # tensor\n",
    "print(b) # numpy array"
   ],
   "id": "227a2d35a23a609b",
   "outputs": [
    {
     "name": "stdout",
     "output_type": "stream",
     "text": [
      "tensor([2., 2., 2., 2., 2.])\n",
      "[2. 2. 2. 2. 2.]\n"
     ]
    }
   ],
   "execution_count": 75
  },
  {
   "metadata": {
    "ExecuteTime": {
     "end_time": "2024-06-10T19:16:12.210491Z",
     "start_time": "2024-06-10T19:16:12.205977Z"
    }
   },
   "cell_type": "code",
   "source": [
    "a = np.ones(5)\n",
    "print(a)"
   ],
   "id": "89fe19c4efc7d486",
   "outputs": [
    {
     "name": "stdout",
     "output_type": "stream",
     "text": [
      "[1. 1. 1. 1. 1.]\n"
     ]
    }
   ],
   "execution_count": 76
  },
  {
   "metadata": {
    "ExecuteTime": {
     "end_time": "2024-06-10T19:16:30.655802Z",
     "start_time": "2024-06-10T19:16:30.651672Z"
    }
   },
   "cell_type": "code",
   "source": [
    "b = torch.from_numpy(a)\n",
    "print(b)"
   ],
   "id": "6125adcd77fef98a",
   "outputs": [
    {
     "name": "stdout",
     "output_type": "stream",
     "text": [
      "tensor([1., 1., 1., 1., 1.], dtype=torch.float64)\n"
     ]
    }
   ],
   "execution_count": 77
  },
  {
   "metadata": {},
   "cell_type": "markdown",
   "source": "Again, by modifying np array tensor will be also modified. This is because they're both on the GPU",
   "id": "f972830da1bd9b4c"
  },
  {
   "metadata": {
    "ExecuteTime": {
     "end_time": "2024-06-10T19:17:42.132396Z",
     "start_time": "2024-06-10T19:17:42.128594Z"
    }
   },
   "cell_type": "code",
   "source": [
    "a +=1 \n",
    "print(a)\n",
    "print(b)"
   ],
   "id": "d4a0ee9d27c8e3f6",
   "outputs": [
    {
     "name": "stdout",
     "output_type": "stream",
     "text": [
      "[3. 3. 3. 3. 3.]\n",
      "tensor([3., 3., 3., 3., 3.], dtype=torch.float64)\n"
     ]
    }
   ],
   "execution_count": 79
  },
  {
   "metadata": {},
   "cell_type": "code",
   "outputs": [],
   "execution_count": null,
   "source": [
    "if torch.cuda.is_available():\n",
    "    device = torch.device('cuda') # cuda is for working with gpu\n",
    "    x = torch.ones(5, device=device) # x on gpu\n",
    "    y = torch.ones(5) # y on cpu\n",
    "    y = y.to(device) # y from cpu to gpu\n",
    "    z = x + y # operation with tensors on gpu is much faster\n",
    "    z = z.to('cpu') # then transfer z to cpu from gpu"
   ],
   "id": "568c3a032ee41a06"
  },
  {
   "metadata": {},
   "cell_type": "markdown",
   "source": [
    "By default `requires_grad` parameter has False value but to optimise code (to tell PyTorch to calculate \n",
    "the gradients for this tensor later in optimisation steps). So, whenever we have a variable in a model we want \n",
    "to optimise, we should change default settings to `requires_grad=True`"
   ],
   "id": "ab1d8bc3e99b4fe5"
  },
  {
   "metadata": {
    "ExecuteTime": {
     "end_time": "2024-06-10T19:24:45.104201Z",
     "start_time": "2024-06-10T19:24:45.100268Z"
    }
   },
   "cell_type": "code",
   "source": [
    "x = torch.ones(5, requires_grad=True)\n",
    "print(x)"
   ],
   "id": "ba12393f0aa29ca3",
   "outputs": [
    {
     "name": "stdout",
     "output_type": "stream",
     "text": [
      "tensor([1., 1., 1., 1., 1.], requires_grad=True)\n"
     ]
    }
   ],
   "execution_count": 80
  },
  {
   "metadata": {},
   "cell_type": "code",
   "outputs": [],
   "execution_count": null,
   "source": "",
   "id": "a48d04572b1d71b"
  }
 ],
 "metadata": {
  "kernelspec": {
   "display_name": "Python 3",
   "language": "python",
   "name": "python3"
  },
  "language_info": {
   "codemirror_mode": {
    "name": "ipython",
    "version": 2
   },
   "file_extension": ".py",
   "mimetype": "text/x-python",
   "name": "python",
   "nbconvert_exporter": "python",
   "pygments_lexer": "ipython2",
   "version": "2.7.6"
  }
 },
 "nbformat": 4,
 "nbformat_minor": 5
}
