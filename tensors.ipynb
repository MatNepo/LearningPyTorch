{
 "cells": [
  {
   "cell_type": "code",
   "id": "initial_id",
   "metadata": {
    "collapsed": true,
    "ExecuteTime": {
     "end_time": "2024-06-10T17:57:50.852728Z",
     "start_time": "2024-06-10T17:57:49.957414Z"
    }
   },
   "source": "import torch",
   "outputs": [],
   "execution_count": 1
  },
  {
   "metadata": {},
   "cell_type": "markdown",
   "source": "Create empty tensor",
   "id": "56fd6794beb15b8c"
  },
  {
   "metadata": {
    "ExecuteTime": {
     "end_time": "2024-06-10T18:10:40.022848Z",
     "start_time": "2024-06-10T18:10:40.019244Z"
    }
   },
   "cell_type": "code",
   "source": [
    "x = torch.rand(2, 2)\n",
    "y = torch.rand(2, 2)\n",
    "print(x)\n",
    "print(y)"
   ],
   "id": "683ff5c1f2db373c",
   "outputs": [
    {
     "name": "stdout",
     "output_type": "stream",
     "text": [
      "tensor([[0.2630, 0.6521],\n",
      "        [0.8753, 0.8151]])\n",
      "tensor([[0.1355, 0.0806],\n",
      "        [0.7547, 0.5413]])\n"
     ]
    }
   ],
   "execution_count": 23
  },
  {
   "metadata": {
    "ExecuteTime": {
     "end_time": "2024-06-10T18:10:48.713921Z",
     "start_time": "2024-06-10T18:10:48.709810Z"
    }
   },
   "cell_type": "code",
   "source": [
    "z = x + y\n",
    "print(z)"
   ],
   "id": "60f6f3b5483cf35f",
   "outputs": [
    {
     "name": "stdout",
     "output_type": "stream",
     "text": [
      "tensor([[0.3985, 0.7327],\n",
      "        [1.6301, 1.3564]])\n"
     ]
    }
   ],
   "execution_count": 24
  },
  {
   "metadata": {
    "ExecuteTime": {
     "end_time": "2024-06-10T18:10:49.377353Z",
     "start_time": "2024-06-10T18:10:49.373118Z"
    }
   },
   "cell_type": "code",
   "source": [
    "z = torch.add(x, y)\n",
    "print(z)"
   ],
   "id": "3b03ced11e42dd3",
   "outputs": [
    {
     "name": "stdout",
     "output_type": "stream",
     "text": [
      "tensor([[0.3985, 0.7327],\n",
      "        [1.6301, 1.3564]])\n"
     ]
    }
   ],
   "execution_count": 25
  },
  {
   "metadata": {
    "ExecuteTime": {
     "end_time": "2024-06-10T18:11:12.331907Z",
     "start_time": "2024-06-10T18:11:12.327243Z"
    }
   },
   "cell_type": "code",
   "source": [
    "y.add_(x)\n",
    "print(y)"
   ],
   "id": "4d67cbc7526f7c06",
   "outputs": [
    {
     "name": "stdout",
     "output_type": "stream",
     "text": [
      "tensor([[0.3985, 0.7327],\n",
      "        [1.6301, 1.3564]])\n"
     ]
    }
   ],
   "execution_count": 26
  },
  {
   "metadata": {
    "ExecuteTime": {
     "end_time": "2024-06-10T18:13:09.966084Z",
     "start_time": "2024-06-10T18:13:09.962564Z"
    }
   },
   "cell_type": "code",
   "source": [
    "z = x / y\n",
    "print(z)"
   ],
   "id": "a99066729c972d0",
   "outputs": [
    {
     "name": "stdout",
     "output_type": "stream",
     "text": [
      "tensor([[0.6600, 0.8900],\n",
      "        [0.5370, 0.6009]])\n"
     ]
    }
   ],
   "execution_count": 31
  },
  {
   "metadata": {
    "ExecuteTime": {
     "end_time": "2024-06-10T18:13:10.705375Z",
     "start_time": "2024-06-10T18:13:10.702794Z"
    }
   },
   "cell_type": "code",
   "source": [
    "z = torch.div(x, y)\n",
    "print(z)"
   ],
   "id": "29082b993133f6e",
   "outputs": [
    {
     "name": "stdout",
     "output_type": "stream",
     "text": [
      "tensor([[0.6600, 0.8900],\n",
      "        [0.5370, 0.6009]])\n"
     ]
    }
   ],
   "execution_count": 32
  },
  {
   "metadata": {},
   "cell_type": "code",
   "outputs": [],
   "execution_count": null,
   "source": "",
   "id": "aff993981fd9704e"
  }
 ],
 "metadata": {
  "kernelspec": {
   "display_name": "Python 3",
   "language": "python",
   "name": "python3"
  },
  "language_info": {
   "codemirror_mode": {
    "name": "ipython",
    "version": 2
   },
   "file_extension": ".py",
   "mimetype": "text/x-python",
   "name": "python",
   "nbconvert_exporter": "python",
   "pygments_lexer": "ipython2",
   "version": "2.7.6"
  }
 },
 "nbformat": 4,
 "nbformat_minor": 5
}
